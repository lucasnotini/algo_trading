{
 "cells": [
  {
   "cell_type": "code",
   "execution_count": 12,
   "id": "52ac379b-ce12-42c7-a286-70f8f93fd121",
   "metadata": {},
   "outputs": [
    {
     "name": "stdout",
     "output_type": "stream",
     "text": [
      "[*********************100%***********************]  1 of 1 completed\n"
     ]
    }
   ],
   "source": [
    "import pandas as pd\n",
    "import yfinance as yf\n",
    "import numpy as np\n",
    "import matplotlib.pyplot as plt\n",
    "\n",
    "start_date = '2003-10-01'\n",
    "# symbol = '^GDAXI'\n",
    "symbol = '^BVSP'\n",
    "\n",
    "#baixa dados yf\n",
    "df = yf.download(symbol, start = start_date)\n",
    "#remove colunas que nao vou usar\n",
    "df = df.drop(columns = ['Adj Close', 'Volume'])\n",
    "#define dias de alta e baixa em coluna usando np.where(condição, valor verdadeiro, valor falso)\n",
    "df['Sentido_Dia'] = np.where(df['Close'] > df['Open'], 'alta','baixa')\n",
    "\n",
    "contagem_alta = len(df[df['Sentido_Dia'] == 'alta'])\n",
    "alta_alta = len( df[(df['Sentido_Dia'] == 'alta') & (df['Sentido_Dia'].shift(-1) == 'alta')])\n",
    "percent_alta_alta = alta_alta / contagem_alta\n",
    "alta_alta_alta = len( df[(df['Sentido_Dia'] == 'alta') & (df['Sentido_Dia'].shift(-1) == 'alta') & (df['Sentido_Dia'].shift(-2) == 'alta')  ])\n",
    "percent_alta_alta_alta = alta_alta_alta / alta_alta"
   ]
  },
  {
   "cell_type": "code",
   "execution_count": 13,
   "id": "4b0d44a1-5c29-4e79-baa4-3a6d01216248",
   "metadata": {},
   "outputs": [
    {
     "data": {
      "text/plain": [
       "0.5094197437829691"
      ]
     },
     "execution_count": 13,
     "metadata": {},
     "output_type": "execute_result"
    }
   ],
   "source": [
    "percent_alta_alta_alta"
   ]
  },
  {
   "cell_type": "code",
   "execution_count": null,
   "id": "bf1d9ac8-b796-4717-99e6-fb012e31dd12",
   "metadata": {},
   "outputs": [],
   "source": []
  }
 ],
 "metadata": {
  "kernelspec": {
   "display_name": "Python 3 (ipykernel)",
   "language": "python",
   "name": "python3"
  },
  "language_info": {
   "codemirror_mode": {
    "name": "ipython",
    "version": 3
   },
   "file_extension": ".py",
   "mimetype": "text/x-python",
   "name": "python",
   "nbconvert_exporter": "python",
   "pygments_lexer": "ipython3",
   "version": "3.11.3"
  }
 },
 "nbformat": 4,
 "nbformat_minor": 5
}
